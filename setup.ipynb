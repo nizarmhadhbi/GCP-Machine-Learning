{
 "cells": [
  {
   "cell_type": "code",
   "execution_count": 1,
   "id": "cadbe9ed-3fee-41db-857c-36b9e5b5c1d4",
   "metadata": {},
   "outputs": [
    {
     "data": {
      "text/plain": [
       "'flash-datum-368412'"
      ]
     },
     "execution_count": 1,
     "metadata": {},
     "output_type": "execute_result"
    }
   ],
   "source": [
    "project = !gcloud config get-value project\n",
    "PROJECT_ID = project[0]\n",
    "PROJECT_ID"
   ]
  },
  {
   "cell_type": "code",
   "execution_count": 3,
   "id": "e7dfdc46-2ce2-42aa-9e71-975c16cafe64",
   "metadata": {},
   "outputs": [],
   "source": [
    "#packages\n",
    "from google.cloud import storage\n",
    "from google.cloud import bigquery\n",
    "\n",
    "import pandas as pd\n",
    "from sklearn import datasets"
   ]
  },
  {
   "cell_type": "code",
   "execution_count": 4,
   "id": "1bdc634b-5fb7-4131-9496-db34ddc4407f",
   "metadata": {},
   "outputs": [],
   "source": [
    "#clients\n",
    "gcs = storage.Client(project = PROJECT_ID)\n",
    "bq = bigquery.Client(project = PROJECT_ID)"
   ]
  },
  {
   "cell_type": "code",
   "execution_count": 5,
   "id": "3e6e3e2e-12f9-434c-8db2-45a1199bb632",
   "metadata": {},
   "outputs": [
    {
     "data": {
      "text/plain": [
       "'flash-datum-368412'"
      ]
     },
     "execution_count": 5,
     "metadata": {},
     "output_type": "execute_result"
    }
   ],
   "source": [
    "#parameters:\n",
    "BUCKET = PROJECT_ID\n",
    "BUCKET"
   ]
  },
  {
   "cell_type": "code",
   "execution_count": 9,
   "id": "011d42a4-a392-4844-9458-6d9b4f34a868",
   "metadata": {},
   "outputs": [],
   "source": [
    "REGION = 'us-west1'"
   ]
  },
  {
   "cell_type": "code",
   "execution_count": 10,
   "id": "e32a89ea-e342-4390-82e5-18577970e6e0",
   "metadata": {},
   "outputs": [
    {
     "name": "stdout",
     "output_type": "stream",
     "text": [
      "Created Bucket: flash-datum-368412\n"
     ]
    }
   ],
   "source": [
    "#Check to see if bucket already exist and create if missing:\n",
    "if not gcs.lookup_bucket(BUCKET):\n",
    "    bucketDef = gcs.bucket(BUCKET)\n",
    "    bucket = gcs.create_bucket(bucketDef, project=PROJECT_ID, location=REGION)\n",
    "    print(f'Created Bucket: {gcs.lookup_bucket(BUCKET).name}')\n",
    "else:\n",
    "    bucketDef = gcs.bucket(BUCKET)\n",
    "    print(f'Bucket already exist: {bucketDef.name}')"
   ]
  },
  {
   "cell_type": "code",
   "execution_count": 11,
   "id": "69c3ed28-bd03-44ba-9d0d-90bba7af18ea",
   "metadata": {},
   "outputs": [
    {
     "name": "stdout",
     "output_type": "stream",
     "text": [
      "Review the storage bucket in the console here:\n",
      "https://console.cloud.google.com/storage/browser/flash-datum-368412;tab=objects&project=flash-datum-368412\n"
     ]
    }
   ],
   "source": [
    "print(f'Review the storage bucket in the console here:\\nhttps://console.cloud.google.com/storage/browser/{PROJECT_ID};tab=objects&project={PROJECT_ID}')\n"
   ]
  },
  {
   "cell_type": "code",
   "execution_count": 12,
   "id": "884f6287-85f9-475e-8df5-3950b1d7c1ac",
   "metadata": {},
   "outputs": [
    {
     "data": {
      "text/plain": [
       "'472530920109-compute@developer.gserviceaccount.com'"
      ]
     },
     "execution_count": 12,
     "metadata": {},
     "output_type": "execute_result"
    }
   ],
   "source": [
    "#Service Account & Permissions\n",
    "#This notebook instance is running as a service account in GCP. This service account will also be used to run other services in Vertex AI like training jobs and pipelines. The service account will need permission to interact with object in Cloud Storage which requires the role (roles/storage.objectAdmin).\n",
    "\n",
    "#Get the current service account:\n",
    "SERVICE_ACCOUNT = !gcloud config list --format='value(core.account)' \n",
    "SERVICE_ACCOUNT = SERVICE_ACCOUNT[0]\n",
    "SERVICE_ACCOUNT"
   ]
  },
  {
   "cell_type": "code",
   "execution_count": 13,
   "id": "a9532ec4-6388-49cb-a43e-7b1a82ffcd92",
   "metadata": {},
   "outputs": [
    {
     "name": "stdout",
     "output_type": "stream",
     "text": [
      "Operation \"operations/acat.p2-472530920109-1e371c61-1b51-47b8-8794-5a7c0e6fab30\" finished successfully.\n"
     ]
    }
   ],
   "source": [
    "#Enable the Cloud Resource Manager API:\n",
    "!gcloud services enable cloudresourcemanager.googleapis.com\n",
    "\n"
   ]
  },
  {
   "cell_type": "code",
   "execution_count": 14,
   "id": "a72b235e-4f73-4aaa-ac65-c3bcf12de7b0",
   "metadata": {},
   "outputs": [
    {
     "name": "stdout",
     "output_type": "stream",
     "text": [
      "ROLE\n",
      "roles/editor\n",
      "roles/storage.objectAdmin\n"
     ]
    }
   ],
   "source": [
    "#List the service accounts current roles:\n",
    "\n",
    "!gcloud projects get-iam-policy $PROJECT_ID --filter=\"bindings.members:$SERVICE_ACCOUNT\" --format='table(bindings.role)' --flatten=\"bindings[].members\"\n"
   ]
  },
  {
   "cell_type": "code",
   "execution_count": 15,
   "id": "b16bfffd-02b7-44c2-aae2-35698a420d76",
   "metadata": {},
   "outputs": [
    {
     "name": "stdout",
     "output_type": "stream",
     "text": [
      "Go To IAM in the Google Cloud Console:\n",
      "https://console.cloud.google.com/iam-admin/iam?orgonly=true&project=flash-datum-368412&supportedpurview=organizationId\n"
     ]
    }
   ],
   "source": [
    "#If the resulting list is missing roles/storage.objectAdmin or another role that contains this permission, like the basic role roles/owner, then it will need to be added for the service account. Use these instructions to complete this:\n",
    "print(f'Go To IAM in the Google Cloud Console:\\nhttps://console.cloud.google.com/iam-admin/iam?orgonly=true&project={PROJECT_ID}&supportedpurview=organizationId')\n"
   ]
  },
  {
   "cell_type": "code",
   "execution_count": 16,
   "id": "40a40c98-34b4-4a35-8d9e-5417eecd110b",
   "metadata": {},
   "outputs": [
    {
     "name": "stdout",
     "output_type": "stream",
     "text": [
      "ROLE\n",
      "roles/editor\n",
      "roles/storage.objectAdmin\n"
     ]
    }
   ],
   "source": [
    "!gcloud projects get-iam-policy $PROJECT_ID --filter=\"bindings.members:$SERVICE_ACCOUNT\" --format='table(bindings.role)' --flatten=\"bindings[].members\"\n"
   ]
  },
  {
   "cell_type": "code",
   "execution_count": 17,
   "id": "c6ee3a63-6fb2-4fbc-8c30-15a9f6373d28",
   "metadata": {},
   "outputs": [],
   "source": [
    "#Update AIPlatform Package:\n",
    "#The google-cloud-aiplatform package updates frequently. Update it for latest functionality.\n",
    "\n",
    "#aiplatform Python Client\n",
    "#GitHub Repo for api-common-protos\n",
    "#For a better understanding of the Vertex AI APIs client, version, and layers please review the tip here aiplatform_notes.md.\n",
    "!pip install googleapis-common-protos -U -q\n",
    "!pip install google-cloud-aiplatform -U -q"
   ]
  },
  {
   "cell_type": "code",
   "execution_count": null,
   "id": "e853a787-d0da-409d-b414-998356427a5e",
   "metadata": {},
   "outputs": [],
   "source": []
  }
 ],
 "metadata": {
  "environment": {
   "kernel": "python3",
   "name": "tf2-gpu.2-8.m102",
   "type": "gcloud",
   "uri": "gcr.io/deeplearning-platform-release/tf2-gpu.2-8:m102"
  },
  "kernelspec": {
   "display_name": "Python 3 (ipykernel)",
   "language": "python",
   "name": "python3"
  },
  "language_info": {
   "codemirror_mode": {
    "name": "ipython",
    "version": 3
   },
   "file_extension": ".py",
   "mimetype": "text/x-python",
   "name": "python",
   "nbconvert_exporter": "python",
   "pygments_lexer": "ipython3",
   "version": "3.7.12"
  }
 },
 "nbformat": 4,
 "nbformat_minor": 5
}
